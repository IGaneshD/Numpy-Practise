{
 "cells": [
  {
   "cell_type": "markdown",
   "metadata": {},
   "source": [
    "## 5. np.linspace()\n",
    "Return evenly spaced numbers over a specified interval.\n",
    "\n",
    "Returns `num` evenly spaced samples, calculated over the interval `[start, stop]`."
   ]
  },
  {
   "cell_type": "markdown",
   "metadata": {},
   "source": [
    "### Syntax:\n",
    "```python\n",
    "numpy.linspace(start, stop, num=50, endpoint=True, retstep=False, dtype=None, axis=0, *, device=None)\n",
    "```"
   ]
  },
  {
   "cell_type": "code",
   "execution_count": 3,
   "metadata": {},
   "outputs": [],
   "source": [
    "# import numpy\n",
    "import numpy as np"
   ]
  },
  {
   "cell_type": "markdown",
   "metadata": {},
   "source": [
    "### With `start` and `stop`"
   ]
  },
  {
   "cell_type": "code",
   "execution_count": 15,
   "metadata": {},
   "outputs": [
    {
     "name": "stdout",
     "output_type": "stream",
     "text": [
      "[10.         10.20408163 10.40816327 10.6122449  10.81632653 11.02040816\n",
      " 11.2244898  11.42857143 11.63265306 11.83673469 12.04081633 12.24489796\n",
      " 12.44897959 12.65306122 12.85714286 13.06122449 13.26530612 13.46938776\n",
      " 13.67346939 13.87755102 14.08163265 14.28571429 14.48979592 14.69387755\n",
      " 14.89795918 15.10204082 15.30612245 15.51020408 15.71428571 15.91836735\n",
      " 16.12244898 16.32653061 16.53061224 16.73469388 16.93877551 17.14285714\n",
      " 17.34693878 17.55102041 17.75510204 17.95918367 18.16326531 18.36734694\n",
      " 18.57142857 18.7755102  18.97959184 19.18367347 19.3877551  19.59183673\n",
      " 19.79591837 20.        ]\n",
      "length-> 50\n"
     ]
    },
    {
     "data": {
      "text/plain": [
       "array([[10.        , 10.20408163, 10.40816327, 10.6122449 , 10.81632653],\n",
       "       [11.02040816, 11.2244898 , 11.42857143, 11.63265306, 11.83673469],\n",
       "       [12.04081633, 12.24489796, 12.44897959, 12.65306122, 12.85714286],\n",
       "       [13.06122449, 13.26530612, 13.46938776, 13.67346939, 13.87755102],\n",
       "       [14.08163265, 14.28571429, 14.48979592, 14.69387755, 14.89795918],\n",
       "       [15.10204082, 15.30612245, 15.51020408, 15.71428571, 15.91836735],\n",
       "       [16.12244898, 16.32653061, 16.53061224, 16.73469388, 16.93877551],\n",
       "       [17.14285714, 17.34693878, 17.55102041, 17.75510204, 17.95918367],\n",
       "       [18.16326531, 18.36734694, 18.57142857, 18.7755102 , 18.97959184],\n",
       "       [19.18367347, 19.3877551 , 19.59183673, 19.79591837, 20.        ]])"
      ]
     },
     "execution_count": 15,
     "metadata": {},
     "output_type": "execute_result"
    }
   ],
   "source": [
    "array = np.linspace(10, 20)\n",
    "\n",
    "# printing the array\n",
    "print(array)\n",
    "\n",
    "# printing the length of the array\n",
    "print(\"length->\",len(array))\n",
    "\n",
    "# reshaping the array into 3-D array\n",
    "array.reshape((10,5))"
   ]
  },
  {
   "cell_type": "markdown",
   "metadata": {},
   "source": [
    "### with `num` parameter"
   ]
  },
  {
   "cell_type": "code",
   "execution_count": 24,
   "metadata": {},
   "outputs": [
    {
     "data": {
      "text/plain": [
       "array([[10.        , 10.52631579, 11.05263158, 11.57894737, 12.10526316],\n",
       "       [12.63157895, 13.15789474, 13.68421053, 14.21052632, 14.73684211],\n",
       "       [15.26315789, 15.78947368, 16.31578947, 16.84210526, 17.36842105],\n",
       "       [17.89473684, 18.42105263, 18.94736842, 19.47368421, 20.        ]])"
      ]
     },
     "execution_count": 24,
     "metadata": {},
     "output_type": "execute_result"
    }
   ],
   "source": [
    "### creating only 30 samples\n",
    "array3 = np.linspace(10, 20, 20)\n",
    "\n",
    "array3.reshape((4,5))"
   ]
  },
  {
   "cell_type": "code",
   "execution_count": null,
   "metadata": {},
   "outputs": [],
   "source": []
  }
 ],
 "metadata": {
  "kernelspec": {
   "display_name": "Python 3",
   "language": "python",
   "name": "python3"
  },
  "language_info": {
   "codemirror_mode": {
    "name": "ipython",
    "version": 3
   },
   "file_extension": ".py",
   "mimetype": "text/x-python",
   "name": "python",
   "nbconvert_exporter": "python",
   "pygments_lexer": "ipython3",
   "version": "3.12.0"
  }
 },
 "nbformat": 4,
 "nbformat_minor": 2
}
