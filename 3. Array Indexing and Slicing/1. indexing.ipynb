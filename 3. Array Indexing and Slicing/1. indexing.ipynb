{
 "cells": [
  {
   "cell_type": "markdown",
   "metadata": {},
   "source": [
    "## Indexing in Numpy\n",
    "\n",
    "Indexing starts with `0`\n",
    "\n",
    "- ###  Accessing element in 1D array\n",
    "    Ex. if you want to access the `5th` element of the array then you can do as `array[4]` \n",
    "\n",
    "- ### Accessing element in 2D array\n",
    "    Ex. for `3rd` element in `2nd` row you can write `array[1,2]`\n",
    "\n",
    "- ### Accessing element in 3D array\n",
    "    Ex. you can use `array[1,0,2]\n",
    "\n",
    "## Negative Indexing in Numpy\n",
    "\n",
    "You can use negative indexing to access an element\n",
    "\n",
    "Negative indexing starts with `-1`"
   ]
  },
  {
   "cell_type": "code",
   "execution_count": 5,
   "metadata": {},
   "outputs": [],
   "source": [
    "# import numpy\n",
    "import numpy as np\n",
    "from io import StringIO"
   ]
  },
  {
   "cell_type": "code",
   "execution_count": 7,
   "metadata": {},
   "outputs": [
    {
     "data": {
      "text/plain": [
       "array([[ 1,  2,  3,  4,  5],\n",
       "       [ 6,  7,  8,  9, 10]], dtype=int16)"
      ]
     },
     "execution_count": 7,
     "metadata": {},
     "output_type": "execute_result"
    }
   ],
   "source": [
    "# creating an array from string\n",
    "text = \"\"\"\n",
    "        1 2 3 4 5\n",
    "        6 7 8 9 10 \"\"\"\n",
    "        \n",
    "array = np.genfromtxt(StringIO(text), dtype=np.int16, delimiter=\" \")\n",
    "\n",
    "array"
   ]
  },
  {
   "cell_type": "code",
   "execution_count": 8,
   "metadata": {},
   "outputs": [
    {
     "name": "stdout",
     "output_type": "stream",
     "text": [
      "2\n"
     ]
    }
   ],
   "source": [
    "# accessing 2nd element from first row\n",
    "\n",
    "print(array[0,1])"
   ]
  },
  {
   "cell_type": "code",
   "execution_count": 10,
   "metadata": {},
   "outputs": [
    {
     "name": "stdout",
     "output_type": "stream",
     "text": [
      "5\n",
      "10\n"
     ]
    }
   ],
   "source": [
    "# accessing last elements of each row\n",
    "print(array[0, -1])\n",
    "print(array[-1, -1])"
   ]
  }
 ],
 "metadata": {
  "kernelspec": {
   "display_name": "Python 3",
   "language": "python",
   "name": "python3"
  },
  "language_info": {
   "codemirror_mode": {
    "name": "ipython",
    "version": 3
   },
   "file_extension": ".py",
   "mimetype": "text/x-python",
   "name": "python",
   "nbconvert_exporter": "python",
   "pygments_lexer": "ipython3",
   "version": "3.12.0"
  }
 },
 "nbformat": 4,
 "nbformat_minor": 2
}
